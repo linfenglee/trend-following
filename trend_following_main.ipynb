{
 "cells": [
  {
   "cell_type": "markdown",
   "metadata": {},
   "source": [
    "# Trend Following"
   ]
  },
  {
   "cell_type": "markdown",
   "metadata": {},
   "source": [
    "## Basic Setting"
   ]
  },
  {
   "cell_type": "code",
   "execution_count": null,
   "metadata": {},
   "outputs": [],
   "source": [
    "import numpy as np\n",
    "import pandas as pd\n",
    "\n",
    "import plotly\n",
    "import plotly.graph_objs as go\n",
    "\n",
    "import rqdatac as rq\n",
    "from rqdatac import *\n",
    "\n",
    "from trend_following_objects import MarketInfo, ParameterData, RegimeInfo\n",
    "from trend_following_strategy import EstimationParameter"
   ]
  },
  {
   "cell_type": "code",
   "execution_count": 26,
   "metadata": {},
   "outputs": [],
   "source": [
    "def configure_plotly_browser_state():\n",
    "    import IPython\n",
    "    display(IPython.core.display.HTML('''\n",
    "        <script src=\"/static/components/requirejs/require.js\"></script>\n",
    "        <script>\n",
    "          requirejs.config({\n",
    "            paths: {\n",
    "              base: '/static/base',\n",
    "              plotly: 'https://cdn.plot.ly/plotly-latest.min.js?noext',\n",
    "            },\n",
    "          });\n",
    "        </script>\n",
    "        '''))\n",
    "\n",
    "import IPython\n",
    "\n",
    "IPython.get_ipython().events.register('pre_run_cell', configure_plotly_browser_state)"
   ]
  },
  {
   "cell_type": "code",
   "execution_count": 6,
   "metadata": {},
   "outputs": [],
   "source": [
    "mkt_info = MarketInfo(\"510050\", 0.03, 0.001, 0.001)"
   ]
  },
  {
   "cell_type": "code",
   "execution_count": 7,
   "metadata": {},
   "outputs": [
    {
     "data": {
      "text/plain": [
       "0.0009995003330834232"
      ]
     },
     "execution_count": 7,
     "metadata": {},
     "output_type": "execute_result"
    }
   ],
   "source": [
    "mkt_info.upper_boundary"
   ]
  },
  {
   "cell_type": "code",
   "execution_count": 8,
   "metadata": {},
   "outputs": [
    {
     "data": {
      "text/plain": [
       "-0.0010005003335835344"
      ]
     },
     "execution_count": 8,
     "metadata": {},
     "output_type": "execute_result"
    }
   ],
   "source": [
    "mkt_info.lower_boundary"
   ]
  },
  {
   "cell_type": "code",
   "execution_count": 9,
   "metadata": {},
   "outputs": [],
   "source": [
    "para_info = ParameterData(\"510050\")"
   ]
  },
  {
   "cell_type": "code",
   "execution_count": 10,
   "metadata": {},
   "outputs": [
    {
     "data": {
      "text/plain": [
       "0"
      ]
     },
     "execution_count": 10,
     "metadata": {},
     "output_type": "execute_result"
    }
   ],
   "source": [
    "para_info.bull_lambda"
   ]
  },
  {
   "cell_type": "code",
   "execution_count": 11,
   "metadata": {},
   "outputs": [
    {
     "data": {
      "text/plain": [
       "False"
      ]
     },
     "execution_count": 11,
     "metadata": {},
     "output_type": "execute_result"
    }
   ],
   "source": [
    "rq.initialized()"
   ]
  },
  {
   "cell_type": "markdown",
   "metadata": {},
   "source": [
    "## Parameter Estimation"
   ]
  },
  {
   "cell_type": "code",
   "execution_count": 12,
   "metadata": {},
   "outputs": [],
   "source": [
    "regime_info = RegimeInfo(\"000300\", 0.2, 0.2)"
   ]
  },
  {
   "cell_type": "code",
   "execution_count": 13,
   "metadata": {},
   "outputs": [],
   "source": [
    "import tushare as ts\n",
    "\n",
    "ts.set_token('c3450fdabd780ea8ef13ebdd0230c2e52a5737b05cfb0377eecc2f84')\n",
    "pro = ts.pro_api()"
   ]
  },
  {
   "cell_type": "code",
   "execution_count": 44,
   "metadata": {},
   "outputs": [
    {
     "data": {
      "text/html": [
       "\n",
       "        <script src=\"/static/components/requirejs/require.js\"></script>\n",
       "        <script>\n",
       "          requirejs.config({\n",
       "            paths: {\n",
       "              base: '/static/base',\n",
       "              plotly: 'https://cdn.plot.ly/plotly-latest.min.js?noext',\n",
       "            },\n",
       "          });\n",
       "        </script>\n",
       "        "
      ],
      "text/plain": [
       "<IPython.core.display.HTML object>"
      ]
     },
     "metadata": {},
     "output_type": "display_data"
    },
    {
     "name": "stdout",
     "output_type": "stream",
     "text": [
      "本接口即将停止更新，请尽快使用Pro版接口：https://tushare.pro/document/2\n"
     ]
    },
    {
     "ename": "AttributeError",
     "evalue": "'NoneType' object has no attribute 'index'",
     "output_type": "error",
     "traceback": [
      "\u001b[1;31m---------------------------------------------------------------------------\u001b[0m",
      "\u001b[1;31mAttributeError\u001b[0m                            Traceback (most recent call last)",
      "\u001b[1;32m<ipython-input-44-1d3f9b2e0f5f>\u001b[0m in \u001b[0;36m<module>\u001b[1;34m\u001b[0m\n\u001b[0;32m      1\u001b[0m \u001b[0mcons\u001b[0m \u001b[1;33m=\u001b[0m \u001b[0mts\u001b[0m\u001b[1;33m.\u001b[0m\u001b[0mget_apis\u001b[0m\u001b[1;33m(\u001b[0m\u001b[1;33m)\u001b[0m\u001b[1;33m\u001b[0m\u001b[1;33m\u001b[0m\u001b[0m\n\u001b[0;32m      2\u001b[0m \u001b[0mcsi_300\u001b[0m \u001b[1;33m=\u001b[0m \u001b[0mts\u001b[0m\u001b[1;33m.\u001b[0m\u001b[0mbar\u001b[0m\u001b[1;33m(\u001b[0m\u001b[1;34m'000300'\u001b[0m\u001b[1;33m,\u001b[0m \u001b[0mconn\u001b[0m\u001b[1;33m=\u001b[0m\u001b[0mcons\u001b[0m\u001b[1;33m,\u001b[0m \u001b[0masset\u001b[0m\u001b[1;33m=\u001b[0m\u001b[1;34m'INDEX'\u001b[0m\u001b[1;33m,\u001b[0m \u001b[0mstart_date\u001b[0m\u001b[1;33m=\u001b[0m\u001b[1;34m'2005-04-08'\u001b[0m\u001b[1;33m,\u001b[0m \u001b[0mend_date\u001b[0m\u001b[1;33m=\u001b[0m\u001b[1;34m'2020-01-01'\u001b[0m\u001b[1;33m)\u001b[0m\u001b[1;33m\u001b[0m\u001b[1;33m\u001b[0m\u001b[0m\n\u001b[1;32m----> 3\u001b[1;33m \u001b[0mcsi_300\u001b[0m\u001b[1;33m.\u001b[0m\u001b[0mindex\u001b[0m \u001b[1;33m=\u001b[0m \u001b[0mpd\u001b[0m\u001b[1;33m.\u001b[0m\u001b[0mto_datetime\u001b[0m\u001b[1;33m(\u001b[0m\u001b[0mcsi_300\u001b[0m\u001b[1;33m.\u001b[0m\u001b[0mindex\u001b[0m\u001b[1;33m)\u001b[0m\u001b[1;33m\u001b[0m\u001b[1;33m\u001b[0m\u001b[0m\n\u001b[0m\u001b[0;32m      4\u001b[0m \u001b[0mcsi_300\u001b[0m\u001b[1;33m[\u001b[0m\u001b[1;34m'date'\u001b[0m\u001b[1;33m]\u001b[0m \u001b[1;33m=\u001b[0m \u001b[0mcsi_300\u001b[0m\u001b[1;33m.\u001b[0m\u001b[0mindex\u001b[0m\u001b[1;33m\u001b[0m\u001b[1;33m\u001b[0m\u001b[0m\n\u001b[0;32m      5\u001b[0m \u001b[0mcsi_300\u001b[0m \u001b[1;33m=\u001b[0m \u001b[0mcsi_300\u001b[0m\u001b[1;33m.\u001b[0m\u001b[0msort_values\u001b[0m\u001b[1;33m(\u001b[0m\u001b[0mby\u001b[0m \u001b[1;33m=\u001b[0m \u001b[1;34m'date'\u001b[0m\u001b[1;33m)\u001b[0m\u001b[1;33m\u001b[0m\u001b[1;33m\u001b[0m\u001b[0m\n",
      "\u001b[1;31mAttributeError\u001b[0m: 'NoneType' object has no attribute 'index'"
     ]
    }
   ],
   "source": [
    "cons = ts.get_apis()\n",
    "csi_300 = ts.bar('000300', conn=cons, asset='INDEX', start_date='2005-04-08', end_date='2020-01-01')\n",
    "csi_300.index = pd.to_datetime(csi_300.index)\n",
    "csi_300['date'] = csi_300.index\n",
    "csi_300 = csi_300.sort_values(by = 'date')\n",
    "csi_300['log_rtn'] = np.log(csi_300['close']).diff()\n",
    "csi_300['rtn'] = (csi_300['close'] - csi_300['close'].shift())/csi_300['close']\n",
    "csi_300.head()"
   ]
  },
  {
   "cell_type": "code",
   "execution_count": 15,
   "metadata": {},
   "outputs": [],
   "source": [
    "est_para = EstimationParameter(csi_300, \"close\", regime_info)"
   ]
  },
  {
   "cell_type": "code",
   "execution_count": 16,
   "metadata": {},
   "outputs": [
    {
     "name": "stdout",
     "output_type": "stream",
     "text": [
      "Estimate Parameters for 000300\n"
     ]
    }
   ],
   "source": [
    "print(est_para)"
   ]
  },
  {
   "cell_type": "code",
   "execution_count": 23,
   "metadata": {},
   "outputs": [],
   "source": [
    "est_para.find_bull_bear(\"bear\")\n",
    "market_regimes = est_para.get_regimes()"
   ]
  },
  {
   "cell_type": "code",
   "execution_count": 19,
   "metadata": {},
   "outputs": [
    {
     "data": {
      "text/plain": [
       "ParameterData(vt_symbol='000300', bull_mu=0.7286205497763798, bear_mu=-0.6640537455282965, bull_sigma=0.2510420807552449, bear_sigma=0.2979106817115861, constant_sigma=0.2682323013593184, bull_lambda=5.222781428336091, bear_lambda=4.59069816025367)"
      ]
     },
     "execution_count": 19,
     "metadata": {},
     "output_type": "execute_result"
    }
   ],
   "source": [
    "para_info = est_para.get_para_info(\"bull\")\n",
    "para_info"
   ]
  },
  {
   "cell_type": "markdown",
   "metadata": {},
   "source": [
    "ParameterData(vt_symbol='000300', bull_mu=0.7286205497763798, bear_mu=-0.6640537455282965, bull_sigma=0.2510420807552449, bear_sigma=0.2979106817115861, constant_sigma=0.2682323013593184, bull_lambda=5.222781428336091, bear_lambda=4.59069816025367)\n"
   ]
  },
  {
   "cell_type": "code",
   "execution_count": 24,
   "metadata": {},
   "outputs": [
    {
     "data": {
      "text/plain": [
       "[{'state': 'bear',\n",
       "  'start_date': numpy.datetime64('2005-04-08T00:00:00.000000000'),\n",
       "  'end_date': numpy.datetime64('2005-06-03T00:00:00.000000000'),\n",
       "  'min_point': 818.03,\n",
       "  'max_point': 1003.45},\n",
       " {'state': 'bull',\n",
       "  'start_date': numpy.datetime64('2005-06-03T00:00:00.000000000'),\n",
       "  'end_date': numpy.datetime64('2007-10-16T00:00:00.000000000'),\n",
       "  'min_point': 818.03,\n",
       "  'max_point': 5877.2},\n",
       " {'state': 'bear',\n",
       "  'start_date': numpy.datetime64('2007-10-16T00:00:00.000000000'),\n",
       "  'end_date': numpy.datetime64('2007-11-28T00:00:00.000000000'),\n",
       "  'min_point': 4648.75,\n",
       "  'max_point': 5877.2},\n",
       " {'state': 'bull',\n",
       "  'start_date': numpy.datetime64('2007-11-28T00:00:00.000000000'),\n",
       "  'end_date': numpy.datetime64('2008-01-14T00:00:00.000000000'),\n",
       "  'min_point': 4648.75,\n",
       "  'max_point': 5731.76},\n",
       " {'state': 'bear',\n",
       "  'start_date': numpy.datetime64('2008-01-14T00:00:00.000000000'),\n",
       "  'end_date': numpy.datetime64('2008-04-21T00:00:00.000000000'),\n",
       "  'min_point': 3267.55,\n",
       "  'max_point': 5731.76},\n",
       " {'state': 'bull',\n",
       "  'start_date': numpy.datetime64('2008-04-21T00:00:00.000000000'),\n",
       "  'end_date': numpy.datetime64('2008-05-05T00:00:00.000000000'),\n",
       "  'min_point': 3267.55,\n",
       "  'max_point': 4055.78},\n",
       " {'state': 'bear',\n",
       "  'start_date': numpy.datetime64('2008-05-05T00:00:00.000000000'),\n",
       "  'end_date': numpy.datetime64('2008-11-04T00:00:00.000000000'),\n",
       "  'min_point': 1627.76,\n",
       "  'max_point': 4055.78},\n",
       " {'state': 'bull',\n",
       "  'start_date': numpy.datetime64('2008-11-04T00:00:00.000000000'),\n",
       "  'end_date': numpy.datetime64('2009-08-03T00:00:00.000000000'),\n",
       "  'min_point': 1627.76,\n",
       "  'max_point': 3787.03},\n",
       " {'state': 'bear',\n",
       "  'start_date': numpy.datetime64('2009-08-03T00:00:00.000000000'),\n",
       "  'end_date': numpy.datetime64('2009-08-31T00:00:00.000000000'),\n",
       "  'min_point': 2830.27,\n",
       "  'max_point': 3787.03},\n",
       " {'state': 'bull',\n",
       "  'start_date': numpy.datetime64('2009-08-31T00:00:00.000000000'),\n",
       "  'end_date': numpy.datetime64('2009-12-07T00:00:00.000000000'),\n",
       "  'min_point': 2830.27,\n",
       "  'max_point': 3668.83},\n",
       " {'state': 'bear',\n",
       "  'start_date': numpy.datetime64('2009-12-07T00:00:00.000000000'),\n",
       "  'end_date': numpy.datetime64('2010-07-05T00:00:00.000000000'),\n",
       "  'min_point': 2512.65,\n",
       "  'max_point': 3668.83},\n",
       " {'state': 'bull',\n",
       "  'start_date': numpy.datetime64('2010-07-05T00:00:00.000000000'),\n",
       "  'end_date': numpy.datetime64('2010-11-08T00:00:00.000000000'),\n",
       "  'min_point': 2512.65,\n",
       "  'max_point': 3548.57},\n",
       " {'state': 'bear',\n",
       "  'start_date': numpy.datetime64('2010-11-08T00:00:00.000000000'),\n",
       "  'end_date': numpy.datetime64('2012-12-03T00:00:00.000000000'),\n",
       "  'min_point': 2108.85,\n",
       "  'max_point': 3548.57},\n",
       " {'state': 'bull',\n",
       "  'start_date': numpy.datetime64('2012-12-03T00:00:00.000000000'),\n",
       "  'end_date': numpy.datetime64('2013-02-06T00:00:00.000000000'),\n",
       "  'min_point': 2108.85,\n",
       "  'max_point': 2775.84},\n",
       " {'state': 'bear',\n",
       "  'start_date': numpy.datetime64('2013-02-06T00:00:00.000000000'),\n",
       "  'end_date': numpy.datetime64('2014-03-20T00:00:00.000000000'),\n",
       "  'min_point': 2086.97,\n",
       "  'max_point': 2775.84},\n",
       " {'state': 'bull',\n",
       "  'start_date': numpy.datetime64('2014-03-20T00:00:00.000000000'),\n",
       "  'end_date': numpy.datetime64('2015-06-08T00:00:00.000000000'),\n",
       "  'min_point': 2086.97,\n",
       "  'max_point': 5353.75},\n",
       " {'state': 'bear',\n",
       "  'start_date': numpy.datetime64('2015-06-08T00:00:00.000000000'),\n",
       "  'end_date': numpy.datetime64('2015-08-26T00:00:00.000000000'),\n",
       "  'min_point': 3025.69,\n",
       "  'max_point': 5353.75},\n",
       " {'state': 'bull',\n",
       "  'start_date': numpy.datetime64('2015-08-26T00:00:00.000000000'),\n",
       "  'end_date': numpy.datetime64('2015-12-22T00:00:00.000000000'),\n",
       "  'min_point': 3025.69,\n",
       "  'max_point': 3876.73},\n",
       " {'state': 'bear',\n",
       "  'start_date': numpy.datetime64('2015-12-22T00:00:00.000000000'),\n",
       "  'end_date': numpy.datetime64('2016-01-28T00:00:00.000000000'),\n",
       "  'min_point': 2853.76,\n",
       "  'max_point': 3876.73},\n",
       " {'state': 'bull',\n",
       "  'start_date': numpy.datetime64('2016-01-28T00:00:00.000000000'),\n",
       "  'end_date': numpy.datetime64('2018-01-24T00:00:00.000000000'),\n",
       "  'min_point': 2853.76,\n",
       "  'max_point': 4389.89},\n",
       " {'state': 'bear',\n",
       "  'start_date': numpy.datetime64('2018-01-24T00:00:00.000000000'),\n",
       "  'end_date': numpy.datetime64('2019-01-03T00:00:00.000000000'),\n",
       "  'min_point': 2964.84,\n",
       "  'max_point': 4389.89}]"
      ]
     },
     "execution_count": 24,
     "metadata": {},
     "output_type": "execute_result"
    }
   ],
   "source": [
    "market_regimes"
   ]
  },
  {
   "cell_type": "code",
   "execution_count": 36,
   "metadata": {},
   "outputs": [
    {
     "data": {
      "text/html": [
       "\n",
       "        <script src=\"/static/components/requirejs/require.js\"></script>\n",
       "        <script>\n",
       "          requirejs.config({\n",
       "            paths: {\n",
       "              base: '/static/base',\n",
       "              plotly: 'https://cdn.plot.ly/plotly-latest.min.js?noext',\n",
       "            },\n",
       "          });\n",
       "        </script>\n",
       "        "
      ],
      "text/plain": [
       "<IPython.core.display.HTML object>"
      ]
     },
     "metadata": {},
     "output_type": "display_data"
    }
   ],
   "source": [
    "s_x, s_y = [], []\n",
    "for regime in market_regimes:\n",
    "    if regime[\"state\"] == \"bull\":\n",
    "        s_y.extend([regime[\"min_point\"], regime[\"max_point\"]])\n",
    "        s_x.extend([pd.to_datetime(regime[\"start_date\"]), pd.to_datetime(regime[\"end_date\"])])\n",
    "    else:\n",
    "        s_y.extend([regime[\"max_point\"], regime[\"min_point\"]])\n",
    "        s_x.extend([pd.to_datetime(regime[\"start_date\"]), pd.to_datetime(regime[\"end_date\"])])"
   ]
  },
  {
   "cell_type": "code",
   "execution_count": 37,
   "metadata": {},
   "outputs": [
    {
     "data": {
      "text/html": [
       "\n",
       "        <script src=\"/static/components/requirejs/require.js\"></script>\n",
       "        <script>\n",
       "          requirejs.config({\n",
       "            paths: {\n",
       "              base: '/static/base',\n",
       "              plotly: 'https://cdn.plot.ly/plotly-latest.min.js?noext',\n",
       "            },\n",
       "          });\n",
       "        </script>\n",
       "        "
      ],
      "text/plain": [
       "<IPython.core.display.HTML object>"
      ]
     },
     "metadata": {},
     "output_type": "display_data"
    },
    {
     "data": {
      "text/plain": [
       "[Timestamp('2005-04-08 00:00:00'),\n",
       " Timestamp('2005-06-03 00:00:00'),\n",
       " Timestamp('2005-06-03 00:00:00'),\n",
       " Timestamp('2007-10-16 00:00:00'),\n",
       " Timestamp('2007-10-16 00:00:00'),\n",
       " Timestamp('2007-11-28 00:00:00'),\n",
       " Timestamp('2007-11-28 00:00:00'),\n",
       " Timestamp('2008-01-14 00:00:00'),\n",
       " Timestamp('2008-01-14 00:00:00'),\n",
       " Timestamp('2008-04-21 00:00:00'),\n",
       " Timestamp('2008-04-21 00:00:00'),\n",
       " Timestamp('2008-05-05 00:00:00'),\n",
       " Timestamp('2008-05-05 00:00:00'),\n",
       " Timestamp('2008-11-04 00:00:00'),\n",
       " Timestamp('2008-11-04 00:00:00'),\n",
       " Timestamp('2009-08-03 00:00:00'),\n",
       " Timestamp('2009-08-03 00:00:00'),\n",
       " Timestamp('2009-08-31 00:00:00'),\n",
       " Timestamp('2009-08-31 00:00:00'),\n",
       " Timestamp('2009-12-07 00:00:00'),\n",
       " Timestamp('2009-12-07 00:00:00'),\n",
       " Timestamp('2010-07-05 00:00:00'),\n",
       " Timestamp('2010-07-05 00:00:00'),\n",
       " Timestamp('2010-11-08 00:00:00'),\n",
       " Timestamp('2010-11-08 00:00:00'),\n",
       " Timestamp('2012-12-03 00:00:00'),\n",
       " Timestamp('2012-12-03 00:00:00'),\n",
       " Timestamp('2013-02-06 00:00:00'),\n",
       " Timestamp('2013-02-06 00:00:00'),\n",
       " Timestamp('2014-03-20 00:00:00'),\n",
       " Timestamp('2014-03-20 00:00:00'),\n",
       " Timestamp('2015-06-08 00:00:00'),\n",
       " Timestamp('2015-06-08 00:00:00'),\n",
       " Timestamp('2015-08-26 00:00:00'),\n",
       " Timestamp('2015-08-26 00:00:00'),\n",
       " Timestamp('2015-12-22 00:00:00'),\n",
       " Timestamp('2015-12-22 00:00:00'),\n",
       " Timestamp('2016-01-28 00:00:00'),\n",
       " Timestamp('2016-01-28 00:00:00'),\n",
       " Timestamp('2018-01-24 00:00:00'),\n",
       " Timestamp('2018-01-24 00:00:00'),\n",
       " Timestamp('2019-01-03 00:00:00')]"
      ]
     },
     "execution_count": 37,
     "metadata": {},
     "output_type": "execute_result"
    }
   ],
   "source": [
    "s_x"
   ]
  },
  {
   "cell_type": "code",
   "execution_count": 42,
   "metadata": {},
   "outputs": [
    {
     "data": {
      "text/html": [
       "\n",
       "        <script src=\"/static/components/requirejs/require.js\"></script>\n",
       "        <script>\n",
       "          requirejs.config({\n",
       "            paths: {\n",
       "              base: '/static/base',\n",
       "              plotly: 'https://cdn.plot.ly/plotly-latest.min.js?noext',\n",
       "            },\n",
       "          });\n",
       "        </script>\n",
       "        "
      ],
      "text/plain": [
       "<IPython.core.display.HTML object>"
      ]
     },
     "metadata": {},
     "output_type": "display_data"
    },
    {
     "ename": "AttributeError",
     "evalue": "'NoneType' object has no attribute 'index'",
     "output_type": "error",
     "traceback": [
      "\u001b[1;31m---------------------------------------------------------------------------\u001b[0m",
      "\u001b[1;31mAttributeError\u001b[0m                            Traceback (most recent call last)",
      "\u001b[1;32m<ipython-input-42-747ce51a394f>\u001b[0m in \u001b[0;36m<module>\u001b[1;34m\u001b[0m\n\u001b[0;32m      1\u001b[0m trace1 = go.Scatter(\n\u001b[1;32m----> 2\u001b[1;33m     \u001b[0mx\u001b[0m \u001b[1;33m=\u001b[0m \u001b[0mcsi_300\u001b[0m\u001b[1;33m.\u001b[0m\u001b[0mindex\u001b[0m\u001b[1;33m,\u001b[0m\u001b[1;33m\u001b[0m\u001b[1;33m\u001b[0m\u001b[0m\n\u001b[0m\u001b[0;32m      3\u001b[0m     \u001b[0my\u001b[0m \u001b[1;33m=\u001b[0m \u001b[0mcsi_300\u001b[0m\u001b[1;33m[\u001b[0m\u001b[1;34m\"close\"\u001b[0m\u001b[1;33m]\u001b[0m\u001b[1;33m,\u001b[0m\u001b[1;33m\u001b[0m\u001b[1;33m\u001b[0m\u001b[0m\n\u001b[0;32m      4\u001b[0m     \u001b[0mmode\u001b[0m \u001b[1;33m=\u001b[0m \u001b[1;34m\"lines\"\u001b[0m\u001b[1;33m,\u001b[0m\u001b[1;33m\u001b[0m\u001b[1;33m\u001b[0m\u001b[0m\n\u001b[0;32m      5\u001b[0m     \u001b[0mname\u001b[0m \u001b[1;33m=\u001b[0m \u001b[1;34m\"CSI 300\"\u001b[0m\u001b[1;33m\u001b[0m\u001b[1;33m\u001b[0m\u001b[0m\n",
      "\u001b[1;31mAttributeError\u001b[0m: 'NoneType' object has no attribute 'index'"
     ]
    }
   ],
   "source": [
    "trace1 = go.Scatter(\n",
    "    x = csi_300.index,\n",
    "    y = csi_300[\"close\"],\n",
    "    mode = \"lines\",\n",
    "    name = \"CSI 300\"\n",
    ")\n",
    "\n",
    "trace2 = go.Scatter(\n",
    "    x = s_x,\n",
    "    y = s_y,\n",
    "    mode = \"markers\",\n",
    "    name = \"CSI 300\"\n",
    ")\n",
    "\n",
    "\n",
    "data = [trace1, trace2]\n",
    "\n",
    "layout = go.Layout(\n",
    "    legend = {\"x\": 1, \"y\": 1},\n",
    "    title = \"CSI Switch Points\"\n",
    ")\n",
    "\n",
    "fig = go.Figure(data=data, layout = layout)\n",
    "\n",
    "plotly.offline.init_notebook_mode()\n",
    "plotly.offline.iplot(fig, filename='scatter-mode')"
   ]
  },
  {
   "cell_type": "code",
   "execution_count": null,
   "metadata": {},
   "outputs": [],
   "source": []
  }
 ],
 "metadata": {
  "kernelspec": {
   "display_name": "Python 3",
   "language": "python",
   "name": "python3"
  },
  "language_info": {
   "codemirror_mode": {
    "name": "ipython",
    "version": 3
   },
   "file_extension": ".py",
   "mimetype": "text/x-python",
   "name": "python",
   "nbconvert_exporter": "python",
   "pygments_lexer": "ipython3",
   "version": "3.7.1"
  },
  "toc-autonumbering": false
 },
 "nbformat": 4,
 "nbformat_minor": 4
}
