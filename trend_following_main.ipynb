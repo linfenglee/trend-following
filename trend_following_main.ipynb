{
 "cells": [
  {
   "cell_type": "code",
   "execution_count": 3,
   "metadata": {},
   "outputs": [],
   "source": [
    "import numpy as np\n",
    "import pandas as pd\n",
    "\n",
    "from trend_following_objects import ParameterData, RegimeInfo\n",
    "from trend_following_strategy import EstimationParameter"
   ]
  },
  {
   "cell_type": "code",
   "execution_count": 25,
   "metadata": {},
   "outputs": [],
   "source": [
    "mkt_info = MarketInfo(\"510050\", 0.03, 0.001, 0.001)"
   ]
  },
  {
   "cell_type": "code",
   "execution_count": 26,
   "metadata": {},
   "outputs": [
    {
     "data": {
      "text/plain": [
       "0.0009995003330834232"
      ]
     },
     "execution_count": 26,
     "metadata": {},
     "output_type": "execute_result"
    }
   ],
   "source": [
    "mkt_info.upper_boundary"
   ]
  },
  {
   "cell_type": "code",
   "execution_count": 27,
   "metadata": {},
   "outputs": [
    {
     "data": {
      "text/plain": [
       "-0.0010005003335835344"
      ]
     },
     "execution_count": 27,
     "metadata": {},
     "output_type": "execute_result"
    }
   ],
   "source": [
    "mkt_info.lower_boundary"
   ]
  },
  {
   "cell_type": "code",
   "execution_count": 28,
   "metadata": {},
   "outputs": [],
   "source": [
    "para_info = ParameterData(\"510050\")"
   ]
  },
  {
   "cell_type": "code",
   "execution_count": 29,
   "metadata": {},
   "outputs": [
    {
     "data": {
      "text/plain": [
       "0"
      ]
     },
     "execution_count": 29,
     "metadata": {},
     "output_type": "execute_result"
    }
   ],
   "source": [
    "para_info.bull_lambda"
   ]
  },
  {
   "cell_type": "code",
   "execution_count": 30,
   "metadata": {},
   "outputs": [
    {
     "name": "stderr",
     "output_type": "stream",
     "text": [
      "C:\\vnstudio\\lib\\site-packages\\rqdatac\\client.py:134: UserWarning: rqdatac is already inited. Settings will be changed.\n",
      "  warnings.warn(\"rqdatac is already inited. Settings will be changed.\", stacklevel=0)\n"
     ]
    }
   ],
   "source": [
    "import rqdatac as rq\n",
    "from rqdatac import *\n",
    "\n",
    "rq.init(\"18222926853\",\"FinTech2020\")"
   ]
  },
  {
   "cell_type": "code",
   "execution_count": 31,
   "metadata": {},
   "outputs": [
    {
     "data": {
      "text/plain": [
       "True"
      ]
     },
     "execution_count": 31,
     "metadata": {},
     "output_type": "execute_result"
    }
   ],
   "source": [
    "rq.initialized()"
   ]
  },
  {
   "cell_type": "markdown",
   "metadata": {},
   "source": [
    "## Test trend_following_strategy"
   ]
  },
  {
   "cell_type": "code",
   "execution_count": 4,
   "metadata": {},
   "outputs": [],
   "source": [
    "regime_info = RegimeInfo(\"000300\", 0.2, 0.2)"
   ]
  },
  {
   "cell_type": "code",
   "execution_count": 5,
   "metadata": {},
   "outputs": [],
   "source": [
    "import tushare as ts\n",
    "\n",
    "ts.set_token('c3450fdabd780ea8ef13ebdd0230c2e52a5737b05cfb0377eecc2f84')\n",
    "pro = ts.pro_api()"
   ]
  },
  {
   "cell_type": "code",
   "execution_count": 6,
   "metadata": {},
   "outputs": [
    {
     "name": "stdout",
     "output_type": "stream",
     "text": [
      "本接口即将停止更新，请尽快使用Pro版接口：https://tushare.pro/document/2\n"
     ]
    },
    {
     "data": {
      "text/html": [
       "<div>\n",
       "<style scoped>\n",
       "    .dataframe tbody tr th:only-of-type {\n",
       "        vertical-align: middle;\n",
       "    }\n",
       "\n",
       "    .dataframe tbody tr th {\n",
       "        vertical-align: top;\n",
       "    }\n",
       "\n",
       "    .dataframe thead th {\n",
       "        text-align: right;\n",
       "    }\n",
       "</style>\n",
       "<table border=\"1\" class=\"dataframe\">\n",
       "  <thead>\n",
       "    <tr style=\"text-align: right;\">\n",
       "      <th></th>\n",
       "      <th>code</th>\n",
       "      <th>open</th>\n",
       "      <th>close</th>\n",
       "      <th>high</th>\n",
       "      <th>low</th>\n",
       "      <th>vol</th>\n",
       "      <th>amount</th>\n",
       "      <th>p_change</th>\n",
       "      <th>date</th>\n",
       "      <th>log_rtn</th>\n",
       "      <th>rtn</th>\n",
       "    </tr>\n",
       "    <tr>\n",
       "      <th>datetime</th>\n",
       "      <th></th>\n",
       "      <th></th>\n",
       "      <th></th>\n",
       "      <th></th>\n",
       "      <th></th>\n",
       "      <th></th>\n",
       "      <th></th>\n",
       "      <th></th>\n",
       "      <th></th>\n",
       "      <th></th>\n",
       "      <th></th>\n",
       "    </tr>\n",
       "  </thead>\n",
       "  <tbody>\n",
       "    <tr>\n",
       "      <th>2005-04-08</th>\n",
       "      <td>000300</td>\n",
       "      <td>984.66</td>\n",
       "      <td>1003.45</td>\n",
       "      <td>1003.70</td>\n",
       "      <td>979.53</td>\n",
       "      <td>147625.0</td>\n",
       "      <td>9.151350e+09</td>\n",
       "      <td>NaN</td>\n",
       "      <td>2005-04-08</td>\n",
       "      <td>NaN</td>\n",
       "      <td>NaN</td>\n",
       "    </tr>\n",
       "    <tr>\n",
       "      <th>2005-04-11</th>\n",
       "      <td>000300</td>\n",
       "      <td>1003.88</td>\n",
       "      <td>995.42</td>\n",
       "      <td>1008.73</td>\n",
       "      <td>992.77</td>\n",
       "      <td>159360.0</td>\n",
       "      <td>1.043623e+10</td>\n",
       "      <td>-0.80</td>\n",
       "      <td>2005-04-11</td>\n",
       "      <td>-0.008035</td>\n",
       "      <td>-0.008067</td>\n",
       "    </tr>\n",
       "    <tr>\n",
       "      <th>2005-04-12</th>\n",
       "      <td>000300</td>\n",
       "      <td>993.71</td>\n",
       "      <td>978.70</td>\n",
       "      <td>993.71</td>\n",
       "      <td>978.20</td>\n",
       "      <td>102261.0</td>\n",
       "      <td>6.479563e+09</td>\n",
       "      <td>-1.68</td>\n",
       "      <td>2005-04-12</td>\n",
       "      <td>-0.016940</td>\n",
       "      <td>-0.017084</td>\n",
       "    </tr>\n",
       "    <tr>\n",
       "      <th>2005-04-13</th>\n",
       "      <td>000300</td>\n",
       "      <td>987.95</td>\n",
       "      <td>1000.90</td>\n",
       "      <td>1006.50</td>\n",
       "      <td>987.95</td>\n",
       "      <td>160716.0</td>\n",
       "      <td>1.002960e+10</td>\n",
       "      <td>2.27</td>\n",
       "      <td>2005-04-13</td>\n",
       "      <td>0.022430</td>\n",
       "      <td>0.022180</td>\n",
       "    </tr>\n",
       "    <tr>\n",
       "      <th>2005-04-14</th>\n",
       "      <td>000300</td>\n",
       "      <td>1004.64</td>\n",
       "      <td>986.97</td>\n",
       "      <td>1006.42</td>\n",
       "      <td>985.58</td>\n",
       "      <td>129457.0</td>\n",
       "      <td>7.813425e+09</td>\n",
       "      <td>-1.39</td>\n",
       "      <td>2005-04-14</td>\n",
       "      <td>-0.014015</td>\n",
       "      <td>-0.014114</td>\n",
       "    </tr>\n",
       "  </tbody>\n",
       "</table>\n",
       "</div>"
      ],
      "text/plain": [
       "              code     open    close     high     low       vol        amount  \\\n",
       "datetime                                                                        \n",
       "2005-04-08  000300   984.66  1003.45  1003.70  979.53  147625.0  9.151350e+09   \n",
       "2005-04-11  000300  1003.88   995.42  1008.73  992.77  159360.0  1.043623e+10   \n",
       "2005-04-12  000300   993.71   978.70   993.71  978.20  102261.0  6.479563e+09   \n",
       "2005-04-13  000300   987.95  1000.90  1006.50  987.95  160716.0  1.002960e+10   \n",
       "2005-04-14  000300  1004.64   986.97  1006.42  985.58  129457.0  7.813425e+09   \n",
       "\n",
       "            p_change       date   log_rtn       rtn  \n",
       "datetime                                             \n",
       "2005-04-08       NaN 2005-04-08       NaN       NaN  \n",
       "2005-04-11     -0.80 2005-04-11 -0.008035 -0.008067  \n",
       "2005-04-12     -1.68 2005-04-12 -0.016940 -0.017084  \n",
       "2005-04-13      2.27 2005-04-13  0.022430  0.022180  \n",
       "2005-04-14     -1.39 2005-04-14 -0.014015 -0.014114  "
      ]
     },
     "execution_count": 6,
     "metadata": {},
     "output_type": "execute_result"
    }
   ],
   "source": [
    "cons = ts.get_apis()\n",
    "csi_300 = ts.bar('000300', conn=cons, asset='INDEX', start_date='2005-04-08', end_date='2020-01-01')\n",
    "csi_300.index = pd.to_datetime(csi_300.index)\n",
    "csi_300['date'] = csi_300.index\n",
    "csi_300 = csi_300.sort_values(by = 'date')\n",
    "#csi_300['percent'] = csi_300['p_change'].apply(lambda x: perc(x))\n",
    "csi_300['log_rtn'] = np.log(csi_300['close']).diff()\n",
    "csi_300['rtn'] = (csi_300['close'] - csi_300['close'].shift())/csi_300['close']\n",
    "csi_300.head()"
   ]
  },
  {
   "cell_type": "code",
   "execution_count": 7,
   "metadata": {},
   "outputs": [],
   "source": [
    "est_para = EstimationParameter(csi_300, \"close\", regime_info)"
   ]
  },
  {
   "cell_type": "code",
   "execution_count": 8,
   "metadata": {},
   "outputs": [
    {
     "name": "stdout",
     "output_type": "stream",
     "text": [
      "Estimate Parameters for 000300\n"
     ]
    }
   ],
   "source": [
    "print(est_para)"
   ]
  },
  {
   "cell_type": "code",
   "execution_count": 10,
   "metadata": {},
   "outputs": [
    {
     "data": {
      "text/plain": [
       "[{'state': 'bear',\n",
       "  'start_date': numpy.datetime64('2005-04-08T00:00:00.000000000'),\n",
       "  'end_date': numpy.datetime64('2005-06-03T00:00:00.000000000'),\n",
       "  'min_point': 818.03,\n",
       "  'max_point': 1003.45},\n",
       " {'state': 'bull',\n",
       "  'start_date': numpy.datetime64('2005-06-03T00:00:00.000000000'),\n",
       "  'end_date': numpy.datetime64('2007-10-16T00:00:00.000000000'),\n",
       "  'min_point': 818.03,\n",
       "  'max_point': 5877.2},\n",
       " {'state': 'bear',\n",
       "  'start_date': numpy.datetime64('2007-10-16T00:00:00.000000000'),\n",
       "  'end_date': numpy.datetime64('2007-11-28T00:00:00.000000000'),\n",
       "  'min_point': 4648.75,\n",
       "  'max_point': 5877.2},\n",
       " {'state': 'bull',\n",
       "  'start_date': numpy.datetime64('2007-11-28T00:00:00.000000000'),\n",
       "  'end_date': numpy.datetime64('2008-01-14T00:00:00.000000000'),\n",
       "  'min_point': 4648.75,\n",
       "  'max_point': 5731.76},\n",
       " {'state': 'bear',\n",
       "  'start_date': numpy.datetime64('2008-01-14T00:00:00.000000000'),\n",
       "  'end_date': numpy.datetime64('2008-04-21T00:00:00.000000000'),\n",
       "  'min_point': 3267.55,\n",
       "  'max_point': 5731.76},\n",
       " {'state': 'bull',\n",
       "  'start_date': numpy.datetime64('2008-04-21T00:00:00.000000000'),\n",
       "  'end_date': numpy.datetime64('2008-05-05T00:00:00.000000000'),\n",
       "  'min_point': 3267.55,\n",
       "  'max_point': 4055.78},\n",
       " {'state': 'bear',\n",
       "  'start_date': numpy.datetime64('2008-05-05T00:00:00.000000000'),\n",
       "  'end_date': numpy.datetime64('2008-11-04T00:00:00.000000000'),\n",
       "  'min_point': 1627.76,\n",
       "  'max_point': 4055.78},\n",
       " {'state': 'bull',\n",
       "  'start_date': numpy.datetime64('2008-11-04T00:00:00.000000000'),\n",
       "  'end_date': numpy.datetime64('2009-08-03T00:00:00.000000000'),\n",
       "  'min_point': 1627.76,\n",
       "  'max_point': 3787.03},\n",
       " {'state': 'bear',\n",
       "  'start_date': numpy.datetime64('2009-08-03T00:00:00.000000000'),\n",
       "  'end_date': numpy.datetime64('2009-08-31T00:00:00.000000000'),\n",
       "  'min_point': 2830.27,\n",
       "  'max_point': 3787.03},\n",
       " {'state': 'bull',\n",
       "  'start_date': numpy.datetime64('2009-08-31T00:00:00.000000000'),\n",
       "  'end_date': numpy.datetime64('2009-12-07T00:00:00.000000000'),\n",
       "  'min_point': 2830.27,\n",
       "  'max_point': 3668.83},\n",
       " {'state': 'bear',\n",
       "  'start_date': numpy.datetime64('2009-12-07T00:00:00.000000000'),\n",
       "  'end_date': numpy.datetime64('2010-07-05T00:00:00.000000000'),\n",
       "  'min_point': 2512.65,\n",
       "  'max_point': 3668.83},\n",
       " {'state': 'bull',\n",
       "  'start_date': numpy.datetime64('2010-07-05T00:00:00.000000000'),\n",
       "  'end_date': numpy.datetime64('2010-11-08T00:00:00.000000000'),\n",
       "  'min_point': 2512.65,\n",
       "  'max_point': 3548.57},\n",
       " {'state': 'bear',\n",
       "  'start_date': numpy.datetime64('2010-11-08T00:00:00.000000000'),\n",
       "  'end_date': numpy.datetime64('2012-12-03T00:00:00.000000000'),\n",
       "  'min_point': 2108.85,\n",
       "  'max_point': 3548.57},\n",
       " {'state': 'bull',\n",
       "  'start_date': numpy.datetime64('2012-12-03T00:00:00.000000000'),\n",
       "  'end_date': numpy.datetime64('2013-02-06T00:00:00.000000000'),\n",
       "  'min_point': 2108.85,\n",
       "  'max_point': 2775.84},\n",
       " {'state': 'bear',\n",
       "  'start_date': numpy.datetime64('2013-02-06T00:00:00.000000000'),\n",
       "  'end_date': numpy.datetime64('2014-03-20T00:00:00.000000000'),\n",
       "  'min_point': 2086.97,\n",
       "  'max_point': 2775.84},\n",
       " {'state': 'bull',\n",
       "  'start_date': numpy.datetime64('2014-03-20T00:00:00.000000000'),\n",
       "  'end_date': numpy.datetime64('2015-06-08T00:00:00.000000000'),\n",
       "  'min_point': 2086.97,\n",
       "  'max_point': 5353.75},\n",
       " {'state': 'bear',\n",
       "  'start_date': numpy.datetime64('2015-06-08T00:00:00.000000000'),\n",
       "  'end_date': numpy.datetime64('2015-08-26T00:00:00.000000000'),\n",
       "  'min_point': 3025.69,\n",
       "  'max_point': 5353.75},\n",
       " {'state': 'bull',\n",
       "  'start_date': numpy.datetime64('2015-08-26T00:00:00.000000000'),\n",
       "  'end_date': numpy.datetime64('2015-12-22T00:00:00.000000000'),\n",
       "  'min_point': 3025.69,\n",
       "  'max_point': 3876.73},\n",
       " {'state': 'bear',\n",
       "  'start_date': numpy.datetime64('2015-12-22T00:00:00.000000000'),\n",
       "  'end_date': numpy.datetime64('2016-01-28T00:00:00.000000000'),\n",
       "  'min_point': 2853.76,\n",
       "  'max_point': 3876.73},\n",
       " {'state': 'bull',\n",
       "  'start_date': numpy.datetime64('2016-01-28T00:00:00.000000000'),\n",
       "  'end_date': numpy.datetime64('2018-01-24T00:00:00.000000000'),\n",
       "  'min_point': 2853.76,\n",
       "  'max_point': 4389.89},\n",
       " {'state': 'bear',\n",
       "  'start_date': numpy.datetime64('2018-01-24T00:00:00.000000000'),\n",
       "  'end_date': numpy.datetime64('2019-01-03T00:00:00.000000000'),\n",
       "  'min_point': 2964.84,\n",
       "  'max_point': 4389.89}]"
      ]
     },
     "execution_count": 10,
     "metadata": {},
     "output_type": "execute_result"
    }
   ],
   "source": [
    "est_para.find_bull_bear(\"bear\")\n",
    "est_para.get_regimes()"
   ]
  },
  {
   "cell_type": "code",
   "execution_count": null,
   "metadata": {},
   "outputs": [],
   "source": []
  }
 ],
 "metadata": {
  "kernelspec": {
   "display_name": "Python 3",
   "language": "python",
   "name": "python3"
  },
  "language_info": {
   "codemirror_mode": {
    "name": "ipython",
    "version": 3
   },
   "file_extension": ".py",
   "mimetype": "text/x-python",
   "name": "python",
   "nbconvert_exporter": "python",
   "pygments_lexer": "ipython3",
   "version": "3.7.1"
  }
 },
 "nbformat": 4,
 "nbformat_minor": 4
}
